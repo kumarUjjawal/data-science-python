{
 "cells": [
  {
   "cell_type": "markdown",
   "id": "2b882953-8c81-4c0a-b7fe-1d159d7f7e1b",
   "metadata": {},
   "source": [
    "# Introduction to NumPy"
   ]
  },
  {
   "cell_type": "code",
   "execution_count": 1,
   "id": "187f7c8d-743e-44ce-9893-b1c5ae2bb7f0",
   "metadata": {
    "tags": []
   },
   "outputs": [],
   "source": [
    "import numpy as np"
   ]
  },
  {
   "cell_type": "code",
   "execution_count": 4,
   "id": "40ee6e6f-fdf4-4225-a3c3-aad140b2d19c",
   "metadata": {
    "tags": []
   },
   "outputs": [
    {
     "data": {
      "text/plain": [
       "array([1, 2, 3, 4, 5])"
      ]
     },
     "execution_count": 4,
     "metadata": {},
     "output_type": "execute_result"
    }
   ],
   "source": [
    "np.array([1,2,3,4,5])"
   ]
  },
  {
   "cell_type": "code",
   "execution_count": 5,
   "id": "f414908e-1f8c-45af-83c2-5677cfd950d4",
   "metadata": {
    "tags": []
   },
   "outputs": [
    {
     "data": {
      "text/plain": [
       "array([1.23, 2.  , 3.  , 4.3 ])"
      ]
     },
     "execution_count": 5,
     "metadata": {},
     "output_type": "execute_result"
    }
   ],
   "source": [
    "# upcasting\n",
    "np.array([1.23, 2,3,4.3])"
   ]
  },
  {
   "cell_type": "code",
   "execution_count": 6,
   "id": "09154c8e-332e-484c-9ccb-0d28c239444d",
   "metadata": {
    "tags": []
   },
   "outputs": [
    {
     "data": {
      "text/plain": [
       "array([1., 2., 3., 5.], dtype=float32)"
      ]
     },
     "execution_count": 6,
     "metadata": {},
     "output_type": "execute_result"
    }
   ],
   "source": [
    "# set type\n",
    "np.array([1,2,3,5], dtype='float32')"
   ]
  },
  {
   "cell_type": "code",
   "execution_count": 7,
   "id": "a81020d9-9b2b-4acc-8d50-6bbd95d115f8",
   "metadata": {
    "tags": []
   },
   "outputs": [
    {
     "data": {
      "text/plain": [
       "array([[ 2,  3,  4,  5],\n",
       "       [ 4,  5,  6,  7],\n",
       "       [ 8,  9, 10, 11]])"
      ]
     },
     "execution_count": 7,
     "metadata": {},
     "output_type": "execute_result"
    }
   ],
   "source": [
    "# multi-dimenstional arrays\n",
    "np.array([range(i, i+4) for i in [2,4,8]])"
   ]
  },
  {
   "cell_type": "code",
   "execution_count": 8,
   "id": "ccaf7352-a915-4221-b89a-1333d9873a93",
   "metadata": {
    "tags": []
   },
   "outputs": [
    {
     "name": "stderr",
     "output_type": "stream",
     "text": [
      "/tmp/ipykernel_9515/1951621886.py:1: VisibleDeprecationWarning: Creating an ndarray from ragged nested sequences (which is a list-or-tuple of lists-or-tuples-or ndarrays with different lengths or shapes) is deprecated. If you meant to do this, you must specify 'dtype=object' when creating the ndarray.\n",
      "  np.array([range(i) for i in [2,4]])\n"
     ]
    },
    {
     "data": {
      "text/plain": [
       "array([range(0, 2), range(0, 4)], dtype=object)"
      ]
     },
     "execution_count": 8,
     "metadata": {},
     "output_type": "execute_result"
    }
   ],
   "source": [
    "np.array([range(i) for i in [2,4]])"
   ]
  },
  {
   "cell_type": "code",
   "execution_count": 9,
   "id": "955a9179-cd8a-42c1-b365-be417ee8327a",
   "metadata": {
    "tags": []
   },
   "outputs": [
    {
     "data": {
      "text/plain": [
       "array([0, 0, 0, 0, 0, 0, 0, 0, 0, 0])"
      ]
     },
     "execution_count": 9,
     "metadata": {},
     "output_type": "execute_result"
    }
   ],
   "source": [
    "# arrays filled with zeros\n",
    "np.zeros(10,dtype=int)"
   ]
  },
  {
   "cell_type": "code",
   "execution_count": 10,
   "id": "31ecbb8b-1749-4025-ace4-6bc4a9c44431",
   "metadata": {
    "tags": []
   },
   "outputs": [
    {
     "data": {
      "text/plain": [
       "array([[1, 1, 1, 1, 1],\n",
       "       [1, 1, 1, 1, 1],\n",
       "       [1, 1, 1, 1, 1]])"
      ]
     },
     "execution_count": 10,
     "metadata": {},
     "output_type": "execute_result"
    }
   ],
   "source": [
    "# 3x5 array filled with ones\n",
    "np.ones((3,5), dtype=int)"
   ]
  },
  {
   "cell_type": "code",
   "execution_count": 11,
   "id": "459b8a73-c6e2-4746-aa7b-5e59dd8572dc",
   "metadata": {
    "tags": []
   },
   "outputs": [
    {
     "data": {
      "text/plain": [
       "array([[42, 42, 42, 42],\n",
       "       [42, 42, 42, 42],\n",
       "       [42, 42, 42, 42]])"
      ]
     },
     "execution_count": 11,
     "metadata": {},
     "output_type": "execute_result"
    }
   ],
   "source": [
    "# filled with default values\n",
    "np.full((3,4), 42)"
   ]
  },
  {
   "cell_type": "code",
   "execution_count": 12,
   "id": "d801f9a9-9f1c-4e96-a368-768bf357f309",
   "metadata": {
    "tags": []
   },
   "outputs": [
    {
     "data": {
      "text/plain": [
       "array([ 0,  2,  4,  6,  8, 10, 12, 14, 16, 18])"
      ]
     },
     "execution_count": 12,
     "metadata": {},
     "output_type": "execute_result"
    }
   ],
   "source": [
    "# 0-20 with step of 2\n",
    "np.arange(0, 20, 2)"
   ]
  },
  {
   "cell_type": "code",
   "execution_count": 14,
   "id": "cbaebdd2-df6d-4016-8213-8cdfa868f64a",
   "metadata": {
    "tags": []
   },
   "outputs": [
    {
     "data": {
      "text/plain": [
       "array([0. , 0.5, 1. , 1.5, 2. ])"
      ]
     },
     "execution_count": 14,
     "metadata": {},
     "output_type": "execute_result"
    }
   ],
   "source": [
    "# evenly sapeced\n",
    "np.linspace(0, 2, 5)"
   ]
  },
  {
   "cell_type": "code",
   "execution_count": 15,
   "id": "e9d3acdc-905b-4d56-a1a5-d3e8825012dc",
   "metadata": {
    "tags": []
   },
   "outputs": [
    {
     "data": {
      "text/plain": [
       "array([[0.30869961, 0.07403426],\n",
       "       [0.45535475, 0.91051801]])"
      ]
     },
     "execution_count": 15,
     "metadata": {},
     "output_type": "execute_result"
    }
   ],
   "source": [
    "# random values between 0 and 1\n",
    "np.random.random((2,2))"
   ]
  },
  {
   "cell_type": "code",
   "execution_count": 16,
   "id": "caf127e9-139f-4117-887c-da8a5333cf54",
   "metadata": {
    "tags": []
   },
   "outputs": [
    {
     "data": {
      "text/plain": [
       "array([[-0.59685568, -0.08268032],\n",
       "       [ 0.3575522 ,  0.55318279]])"
      ]
     },
     "execution_count": 16,
     "metadata": {},
     "output_type": "execute_result"
    }
   ],
   "source": [
    "# random values with mean 0 and std 1\n",
    "np.random.normal(0, 1, (2,2))"
   ]
  },
  {
   "cell_type": "code",
   "execution_count": 18,
   "id": "7630b398-29a8-4b3d-b908-900a259127f7",
   "metadata": {
    "tags": []
   },
   "outputs": [
    {
     "data": {
      "text/plain": [
       "array([[2, 5],\n",
       "       [2, 9]])"
      ]
     },
     "execution_count": 18,
     "metadata": {},
     "output_type": "execute_result"
    }
   ],
   "source": [
    "# random integer in interval\n",
    "np.random.randint(0,10, (2,2))"
   ]
  },
  {
   "cell_type": "code",
   "execution_count": 19,
   "id": "fd302780-7351-47b1-91e6-fa33088886b9",
   "metadata": {
    "tags": []
   },
   "outputs": [
    {
     "data": {
      "text/plain": [
       "array([[1., 0., 0.],\n",
       "       [0., 1., 0.],\n",
       "       [0., 0., 1.]])"
      ]
     },
     "execution_count": 19,
     "metadata": {},
     "output_type": "execute_result"
    }
   ],
   "source": [
    "# identity matrix\n",
    "np.eye(3)"
   ]
  },
  {
   "cell_type": "code",
   "execution_count": 20,
   "id": "143c71d2-c464-43f9-b0d6-0d9b81717194",
   "metadata": {
    "tags": []
   },
   "outputs": [
    {
     "data": {
      "text/plain": [
       "array([1., 1., 1.])"
      ]
     },
     "execution_count": 20,
     "metadata": {},
     "output_type": "execute_result"
    }
   ],
   "source": [
    "# uninitialized integers\n",
    "np.empty(3)"
   ]
  },
  {
   "cell_type": "code",
   "execution_count": 21,
   "id": "7528e622-b080-4319-914d-1e7ac601b51d",
   "metadata": {
    "tags": []
   },
   "outputs": [],
   "source": [
    "# seed for reproducibility\n",
    "np.random.seed(42)"
   ]
  },
  {
   "cell_type": "code",
   "execution_count": 23,
   "id": "acc996d4-f8fb-42a0-a805-1c602c794b51",
   "metadata": {
    "tags": []
   },
   "outputs": [
    {
     "data": {
      "text/plain": [
       "array([2, 6, 7, 4, 3, 7])"
      ]
     },
     "execution_count": 23,
     "metadata": {},
     "output_type": "execute_result"
    }
   ],
   "source": [
    "# one dimensional array\n",
    "x = np.random.randint(10, size=6)\n",
    "x"
   ]
  },
  {
   "cell_type": "code",
   "execution_count": 24,
   "id": "ae2010a3-43ab-4f02-b92b-a9e84916a822",
   "metadata": {
    "tags": []
   },
   "outputs": [
    {
     "data": {
      "text/plain": [
       "array([[7, 2, 5, 4],\n",
       "       [1, 7, 5, 1],\n",
       "       [4, 0, 9, 5]])"
      ]
     },
     "execution_count": 24,
     "metadata": {},
     "output_type": "execute_result"
    }
   ],
   "source": [
    "# two dimensional array\n",
    "y = np.random.randint(10, size=(3,4))\n",
    "y"
   ]
  },
  {
   "cell_type": "code",
   "execution_count": 26,
   "id": "5c647821-c7db-4b14-bfcf-09b750bd917a",
   "metadata": {
    "tags": []
   },
   "outputs": [
    {
     "data": {
      "text/plain": [
       "array([[[7, 7, 2, 0, 7],\n",
       "        [2, 2, 0, 4, 9],\n",
       "        [6, 9, 8, 6, 8],\n",
       "        [7, 1, 0, 6, 6]],\n",
       "\n",
       "       [[7, 4, 2, 7, 5],\n",
       "        [2, 0, 2, 4, 2],\n",
       "        [0, 4, 9, 6, 6],\n",
       "        [8, 9, 9, 2, 6]],\n",
       "\n",
       "       [[0, 3, 3, 4, 6],\n",
       "        [6, 3, 6, 2, 5],\n",
       "        [1, 9, 8, 4, 5],\n",
       "        [3, 9, 6, 8, 6]]])"
      ]
     },
     "execution_count": 26,
     "metadata": {},
     "output_type": "execute_result"
    }
   ],
   "source": [
    "# three dimensional array\n",
    "z = np.random.randint(10, size=(3,4,5))\n",
    "z"
   ]
  },
  {
   "cell_type": "code",
   "execution_count": 30,
   "id": "a008639a-8465-40bb-9ac4-04ec98774127",
   "metadata": {
    "tags": []
   },
   "outputs": [
    {
     "name": "stdout",
     "output_type": "stream",
     "text": [
      "x ndim: 1\n",
      "x shape: (6,)\n",
      "x size: 6\n"
     ]
    }
   ],
   "source": [
    "print(\"x ndim:\", x.ndim)\n",
    "print(\"x shape:\", x.shape)\n",
    "print(\"x size:\", x.size)"
   ]
  },
  {
   "cell_type": "code",
   "execution_count": 31,
   "id": "2202b129-a3e5-419a-9690-06306bc80ed5",
   "metadata": {
    "tags": []
   },
   "outputs": [
    {
     "name": "stdout",
     "output_type": "stream",
     "text": [
      "z ndim: 3\n",
      "z shape: (3, 4, 5)\n",
      "z size: 60\n"
     ]
    }
   ],
   "source": [
    "print(\"z ndim:\", z.ndim)\n",
    "print(\"z shape:\", z.shape)\n",
    "print(\"z size:\", z.size)"
   ]
  },
  {
   "cell_type": "code",
   "execution_count": 35,
   "id": "c368dbb5-d84c-42a4-9633-2131b5718586",
   "metadata": {
    "tags": []
   },
   "outputs": [
    {
     "data": {
      "text/plain": [
       "dtype('int64')"
      ]
     },
     "execution_count": 35,
     "metadata": {},
     "output_type": "execute_result"
    }
   ],
   "source": [
    "x.dtype"
   ]
  },
  {
   "cell_type": "code",
   "execution_count": 36,
   "id": "5ea1c4a4-15a8-4a88-86e1-f7a46059c733",
   "metadata": {
    "tags": []
   },
   "outputs": [
    {
     "name": "stdout",
     "output_type": "stream",
     "text": [
      "x itemsize: 8 bytes\n",
      "x nbytes: 48 bytes\n"
     ]
    }
   ],
   "source": [
    "print(\"x itemsize:\", x.itemsize, \"bytes\")\n",
    "print(\"x nbytes:\", x.nbytes, \"bytes\")"
   ]
  },
  {
   "cell_type": "code",
   "execution_count": 37,
   "id": "0c15a7eb-a774-41eb-a482-22cbe4315f27",
   "metadata": {
    "tags": []
   },
   "outputs": [
    {
     "data": {
      "text/plain": [
       "7"
      ]
     },
     "execution_count": 37,
     "metadata": {},
     "output_type": "execute_result"
    }
   ],
   "source": [
    "y[0,0]"
   ]
  },
  {
   "cell_type": "code",
   "execution_count": 38,
   "id": "2ad02cc1-1bfb-41e4-a037-8c47be5cb3e8",
   "metadata": {
    "tags": []
   },
   "outputs": [
    {
     "data": {
      "text/plain": [
       "4"
      ]
     },
     "execution_count": 38,
     "metadata": {},
     "output_type": "execute_result"
    }
   ],
   "source": [
    "y[2,0]"
   ]
  },
  {
   "cell_type": "code",
   "execution_count": 39,
   "id": "abdbd078-1eff-47fc-98f2-079a5c850922",
   "metadata": {
    "tags": []
   },
   "outputs": [
    {
     "data": {
      "text/plain": [
       "array([6])"
      ]
     },
     "execution_count": 39,
     "metadata": {},
     "output_type": "execute_result"
    }
   ],
   "source": [
    "# array slicing\n",
    "# x[start:stop:step]\n",
    "\n",
    "x[1:2:1]"
   ]
  },
  {
   "cell_type": "code",
   "execution_count": 40,
   "id": "b7bee058-e3a6-4e98-81e1-040932854348",
   "metadata": {
    "tags": []
   },
   "outputs": [],
   "source": [
    "x = np.arange(10)"
   ]
  },
  {
   "cell_type": "code",
   "execution_count": 41,
   "id": "3563e473-db6b-4f1c-8de8-9077d4bcab55",
   "metadata": {
    "tags": []
   },
   "outputs": [
    {
     "data": {
      "text/plain": [
       "array([0, 1, 2, 3, 4, 5, 6, 7, 8, 9])"
      ]
     },
     "execution_count": 41,
     "metadata": {},
     "output_type": "execute_result"
    }
   ],
   "source": [
    "x"
   ]
  },
  {
   "cell_type": "code",
   "execution_count": 42,
   "id": "9f09406c-3d4f-4303-aa9b-32e8550ebe49",
   "metadata": {
    "tags": []
   },
   "outputs": [
    {
     "data": {
      "text/plain": [
       "array([0, 1, 2, 3, 4])"
      ]
     },
     "execution_count": 42,
     "metadata": {},
     "output_type": "execute_result"
    }
   ],
   "source": [
    "x[:5]"
   ]
  },
  {
   "cell_type": "code",
   "execution_count": 43,
   "id": "96bb3f98-091e-4c59-bbcd-128d0fdd4a10",
   "metadata": {
    "tags": []
   },
   "outputs": [
    {
     "data": {
      "text/plain": [
       "array([3, 4])"
      ]
     },
     "execution_count": 43,
     "metadata": {},
     "output_type": "execute_result"
    }
   ],
   "source": [
    "x[3:5]"
   ]
  },
  {
   "cell_type": "code",
   "execution_count": 44,
   "id": "80cf1ec0-88ed-4015-a087-e33fa8c00bc8",
   "metadata": {
    "tags": []
   },
   "outputs": [
    {
     "data": {
      "text/plain": [
       "array([0, 4, 8])"
      ]
     },
     "execution_count": 44,
     "metadata": {},
     "output_type": "execute_result"
    }
   ],
   "source": [
    "x[::4]"
   ]
  },
  {
   "cell_type": "code",
   "execution_count": 46,
   "id": "8c08b7f0-1579-48f9-84c7-27dc299fe16c",
   "metadata": {
    "tags": []
   },
   "outputs": [
    {
     "data": {
      "text/plain": [
       "array([1, 4, 7])"
      ]
     },
     "execution_count": 46,
     "metadata": {},
     "output_type": "execute_result"
    }
   ],
   "source": [
    "x[1::3] # every other element starting at index 1"
   ]
  },
  {
   "cell_type": "code",
   "execution_count": 47,
   "id": "a3d1a562-ccae-4d4e-8878-ae8ce1f8a32e",
   "metadata": {
    "tags": []
   },
   "outputs": [
    {
     "data": {
      "text/plain": [
       "array([9, 8, 7, 6, 5, 4, 3, 2, 1, 0])"
      ]
     },
     "execution_count": 47,
     "metadata": {},
     "output_type": "execute_result"
    }
   ],
   "source": [
    "x[::-1] # all elements reversed"
   ]
  },
  {
   "cell_type": "code",
   "execution_count": 48,
   "id": "5f8a4364-23be-4a3b-81ae-c8edd8780b75",
   "metadata": {
    "tags": []
   },
   "outputs": [
    {
     "data": {
      "text/plain": [
       "array([4, 2, 0])"
      ]
     },
     "execution_count": 48,
     "metadata": {},
     "output_type": "execute_result"
    }
   ],
   "source": [
    "x[4::-2] # reverse every other from index 4"
   ]
  },
  {
   "cell_type": "code",
   "execution_count": 50,
   "id": "9dd0184d-b8b4-4cc7-b516-5f516531da30",
   "metadata": {
    "tags": []
   },
   "outputs": [
    {
     "data": {
      "text/plain": [
       "array([[7, 2, 5, 4],\n",
       "       [1, 7, 5, 1],\n",
       "       [4, 0, 9, 5]])"
      ]
     },
     "execution_count": 50,
     "metadata": {},
     "output_type": "execute_result"
    }
   ],
   "source": [
    "y"
   ]
  },
  {
   "cell_type": "code",
   "execution_count": 51,
   "id": "ed35f293-89a0-4067-9796-e8dfdb68a3cf",
   "metadata": {
    "tags": []
   },
   "outputs": [
    {
     "data": {
      "text/plain": [
       "array([[7, 2, 5],\n",
       "       [1, 7, 5]])"
      ]
     },
     "execution_count": 51,
     "metadata": {},
     "output_type": "execute_result"
    }
   ],
   "source": [
    "y[:2, :3] # two rows, three columns"
   ]
  },
  {
   "cell_type": "code",
   "execution_count": 52,
   "id": "8c8fb1ed-6cc4-46af-b888-6838e50831dd",
   "metadata": {
    "tags": []
   },
   "outputs": [
    {
     "data": {
      "text/plain": [
       "array([[7],\n",
       "       [1],\n",
       "       [4]])"
      ]
     },
     "execution_count": 52,
     "metadata": {},
     "output_type": "execute_result"
    }
   ],
   "source": [
    "y[:3, :1]"
   ]
  },
  {
   "cell_type": "code",
   "execution_count": 53,
   "id": "a3f843af-906b-4c27-9068-5ff435a207b0",
   "metadata": {
    "tags": []
   },
   "outputs": [
    {
     "data": {
      "text/plain": [
       "array([[5, 1],\n",
       "       [9, 5]])"
      ]
     },
     "execution_count": 53,
     "metadata": {},
     "output_type": "execute_result"
    }
   ],
   "source": [
    "y[1:, 2:]"
   ]
  },
  {
   "cell_type": "code",
   "execution_count": 54,
   "id": "e52a3c30-cb21-4942-bf3d-48e64f045527",
   "metadata": {
    "tags": []
   },
   "outputs": [
    {
     "data": {
      "text/plain": [
       "array([[7, 5],\n",
       "       [1, 5],\n",
       "       [4, 9]])"
      ]
     },
     "execution_count": 54,
     "metadata": {},
     "output_type": "execute_result"
    }
   ],
   "source": [
    "y[:3, ::2] # every other column"
   ]
  },
  {
   "cell_type": "code",
   "execution_count": 55,
   "id": "e927dfd6-0575-4a49-b7f9-daac2f3b370b",
   "metadata": {
    "tags": []
   },
   "outputs": [
    {
     "data": {
      "text/plain": [
       "array([[5, 9, 0, 4],\n",
       "       [1, 5, 7, 1],\n",
       "       [4, 5, 2, 7]])"
      ]
     },
     "execution_count": 55,
     "metadata": {},
     "output_type": "execute_result"
    }
   ],
   "source": [
    "y[::-1, ::-1]"
   ]
  },
  {
   "cell_type": "code",
   "execution_count": 56,
   "id": "5b1e1cae-6e6b-4ab5-a789-1bc315860be8",
   "metadata": {
    "tags": []
   },
   "outputs": [
    {
     "data": {
      "text/plain": [
       "array([[7, 2, 5],\n",
       "       [1, 7, 5]])"
      ]
     },
     "execution_count": 56,
     "metadata": {},
     "output_type": "execute_result"
    }
   ],
   "source": [
    "y[:-1, :-1]"
   ]
  },
  {
   "cell_type": "code",
   "execution_count": 59,
   "id": "92c92ad0-7eec-49cb-b630-8ba159ffc79d",
   "metadata": {
    "tags": []
   },
   "outputs": [
    {
     "name": "stdout",
     "output_type": "stream",
     "text": [
      "[7 1 4]\n"
     ]
    }
   ],
   "source": [
    "print(y[:,0]) # first column of y"
   ]
  },
  {
   "cell_type": "code",
   "execution_count": 61,
   "id": "77f6866d-c4ef-40f8-9495-8f46d0a008f9",
   "metadata": {
    "tags": []
   },
   "outputs": [
    {
     "name": "stdout",
     "output_type": "stream",
     "text": [
      "[7 2 5 4]\n"
     ]
    }
   ],
   "source": [
    "print(y[0,:]) # first row of y"
   ]
  },
  {
   "cell_type": "code",
   "execution_count": 62,
   "id": "82febc2e-742d-46a5-a145-8e68ea49bf35",
   "metadata": {
    "tags": []
   },
   "outputs": [],
   "source": [
    "y_sub = y[:2, :2]"
   ]
  },
  {
   "cell_type": "code",
   "execution_count": 63,
   "id": "835780bb-4c55-4a0a-8883-cd21c61b42d9",
   "metadata": {
    "tags": []
   },
   "outputs": [
    {
     "data": {
      "text/plain": [
       "array([[7, 2],\n",
       "       [1, 7]])"
      ]
     },
     "execution_count": 63,
     "metadata": {},
     "output_type": "execute_result"
    }
   ],
   "source": [
    "y_sub"
   ]
  },
  {
   "cell_type": "code",
   "execution_count": 64,
   "id": "86d7acc7-d673-4471-9488-07432c93fcc7",
   "metadata": {
    "tags": []
   },
   "outputs": [],
   "source": [
    "# copy of an array\n",
    "y_copy = y[:2, :2].copy()"
   ]
  },
  {
   "cell_type": "code",
   "execution_count": 65,
   "id": "8a5f1c64-7e28-4b40-92d6-13e1917f9cbf",
   "metadata": {
    "tags": []
   },
   "outputs": [
    {
     "data": {
      "text/plain": [
       "array([[7, 2],\n",
       "       [1, 7]])"
      ]
     },
     "execution_count": 65,
     "metadata": {},
     "output_type": "execute_result"
    }
   ],
   "source": [
    "y_copy"
   ]
  },
  {
   "cell_type": "code",
   "execution_count": 71,
   "id": "30250163-dc5c-4cce-bb12-02296685415c",
   "metadata": {
    "tags": []
   },
   "outputs": [
    {
     "data": {
      "text/plain": [
       "array([[1, 2],\n",
       "       [3, 4]])"
      ]
     },
     "execution_count": 71,
     "metadata": {},
     "output_type": "execute_result"
    }
   ],
   "source": [
    "# reshaping\n",
    "\n",
    "grid = np.arange(1, 5).reshape((2,2))\n",
    "grid"
   ]
  },
  {
   "cell_type": "code",
   "execution_count": 72,
   "id": "554a2d60-c9f7-4355-aa18-408a4fadf713",
   "metadata": {
    "tags": []
   },
   "outputs": [
    {
     "data": {
      "text/plain": [
       "array([0, 1, 2, 3, 4, 5, 6, 7, 8, 9])"
      ]
     },
     "execution_count": 72,
     "metadata": {},
     "output_type": "execute_result"
    }
   ],
   "source": [
    "x"
   ]
  },
  {
   "cell_type": "code",
   "execution_count": 75,
   "id": "daa7b7a0-ffd3-4e46-8e2e-b7a268e368b5",
   "metadata": {
    "tags": []
   },
   "outputs": [
    {
     "data": {
      "text/plain": [
       "array([[0, 1, 2, 3, 4, 5, 6, 7, 8, 9]])"
      ]
     },
     "execution_count": 75,
     "metadata": {},
     "output_type": "execute_result"
    }
   ],
   "source": [
    "x.reshape((1,10))"
   ]
  },
  {
   "cell_type": "code",
   "execution_count": 76,
   "id": "ffa0881c-bb73-47f7-941a-2a9f699ff7d6",
   "metadata": {
    "tags": []
   },
   "outputs": [
    {
     "data": {
      "text/plain": [
       "array([[0, 1, 2, 3, 4, 5, 6, 7, 8, 9]])"
      ]
     },
     "execution_count": 76,
     "metadata": {},
     "output_type": "execute_result"
    }
   ],
   "source": [
    "# row vector via newaxis\n",
    "x[np.newaxis, :]"
   ]
  },
  {
   "cell_type": "code",
   "execution_count": 78,
   "id": "ee0ec767-e759-4913-b6a3-22ebda1a7c8a",
   "metadata": {
    "tags": []
   },
   "outputs": [
    {
     "data": {
      "text/plain": [
       "array([[0],\n",
       "       [1],\n",
       "       [2],\n",
       "       [3],\n",
       "       [4],\n",
       "       [5],\n",
       "       [6],\n",
       "       [7],\n",
       "       [8],\n",
       "       [9]])"
      ]
     },
     "execution_count": 78,
     "metadata": {},
     "output_type": "execute_result"
    }
   ],
   "source": [
    "x.reshape((10,1))"
   ]
  },
  {
   "cell_type": "code",
   "execution_count": 80,
   "id": "59fd20f3-4f25-48ee-ae05-d3511f5508f4",
   "metadata": {
    "tags": []
   },
   "outputs": [
    {
     "data": {
      "text/plain": [
       "array([1, 2, 3, 4, 5, 6])"
      ]
     },
     "execution_count": 80,
     "metadata": {},
     "output_type": "execute_result"
    }
   ],
   "source": [
    "# concatenation\n",
    "x = np.array([1,2,3])\n",
    "y = np.array([4,5,6])\n",
    "np.concatenate([x,y])"
   ]
  },
  {
   "cell_type": "code",
   "execution_count": 82,
   "id": "38da90e2-088b-492c-a5c4-8aec62ab3da9",
   "metadata": {
    "tags": []
   },
   "outputs": [
    {
     "ename": "ValueError",
     "evalue": "all the input arrays must have same number of dimensions, but the array at index 0 has 1 dimension(s) and the array at index 2 has 3 dimension(s)",
     "output_type": "error",
     "traceback": [
      "\u001b[0;31m---------------------------------------------------------------------------\u001b[0m",
      "\u001b[0;31mValueError\u001b[0m                                Traceback (most recent call last)",
      "Cell \u001b[0;32mIn[82], line 1\u001b[0m\n\u001b[0;32m----> 1\u001b[0m \u001b[43mnp\u001b[49m\u001b[38;5;241;43m.\u001b[39;49m\u001b[43mconcatenate\u001b[49m\u001b[43m(\u001b[49m\u001b[43m[\u001b[49m\u001b[43mx\u001b[49m\u001b[43m,\u001b[49m\u001b[43my\u001b[49m\u001b[43m,\u001b[49m\u001b[43mz\u001b[49m\u001b[43m]\u001b[49m\u001b[43m)\u001b[49m \u001b[38;5;66;03m# cannot concatenate arrays of different dimensions\u001b[39;00m\n",
      "File \u001b[0;32m<__array_function__ internals>:180\u001b[0m, in \u001b[0;36mconcatenate\u001b[0;34m(*args, **kwargs)\u001b[0m\n",
      "\u001b[0;31mValueError\u001b[0m: all the input arrays must have same number of dimensions, but the array at index 0 has 1 dimension(s) and the array at index 2 has 3 dimension(s)"
     ]
    }
   ],
   "source": [
    "np.concatenate([x,y,z]) # cannot concatenate arrays of different dimensions"
   ]
  },
  {
   "cell_type": "code",
   "execution_count": 83,
   "id": "a0bfd01f-3a3b-43f2-ad4e-54fff3b8dee6",
   "metadata": {
    "tags": []
   },
   "outputs": [
    {
     "data": {
      "text/plain": [
       "array([[1, 2, 3],\n",
       "       [4, 5, 6],\n",
       "       [1, 2, 3],\n",
       "       [4, 5, 6]])"
      ]
     },
     "execution_count": 83,
     "metadata": {},
     "output_type": "execute_result"
    }
   ],
   "source": [
    "grid = np.array([[1,2,3],\n",
    "                 [4,5,6]])\n",
    "np.concatenate([grid, grid])"
   ]
  },
  {
   "cell_type": "code",
   "execution_count": 84,
   "id": "48a4bb40-7c70-4ff4-a2df-fc6ead1e469a",
   "metadata": {
    "tags": []
   },
   "outputs": [
    {
     "data": {
      "text/plain": [
       "array([[1, 2, 3, 1, 2, 3],\n",
       "       [4, 5, 6, 4, 5, 6]])"
      ]
     },
     "execution_count": 84,
     "metadata": {},
     "output_type": "execute_result"
    }
   ],
   "source": [
    "np.concatenate([grid,grid], axis=1)"
   ]
  },
  {
   "cell_type": "code",
   "execution_count": 85,
   "id": "9968a978-c7d9-4e54-88b3-406122f0cbfb",
   "metadata": {
    "tags": []
   },
   "outputs": [
    {
     "data": {
      "text/plain": [
       "array([[1, 2, 3],\n",
       "       [1, 2, 3],\n",
       "       [4, 5, 6]])"
      ]
     },
     "execution_count": 85,
     "metadata": {},
     "output_type": "execute_result"
    }
   ],
   "source": [
    "# vertically stack the arrays\n",
    "\n",
    "x = np.array([1,2,3])\n",
    "\n",
    "np.vstack([x, grid])"
   ]
  },
  {
   "cell_type": "code",
   "execution_count": 89,
   "id": "57f9f4fb-93a6-4a10-bb43-e108822a1572",
   "metadata": {
    "tags": []
   },
   "outputs": [
    {
     "data": {
      "text/plain": [
       "array([[0, 1, 2, 3],\n",
       "       [0, 4, 5, 6]])"
      ]
     },
     "execution_count": 89,
     "metadata": {},
     "output_type": "execute_result"
    }
   ],
   "source": [
    "# horizontally stack the arrays\n",
    "y = np.array([[00],\n",
    "              [00]])\n",
    "np.hstack([y, grid])"
   ]
  },
  {
   "cell_type": "code",
   "execution_count": 90,
   "id": "453b66f1-119a-4ceb-9cdf-e86c96c8a7e3",
   "metadata": {
    "tags": []
   },
   "outputs": [],
   "source": [
    "# array splitting\n",
    "\n",
    "x = [1,2,34,5,5,6]\n",
    "\n",
    "x1 = np.split(x, [1,2])"
   ]
  },
  {
   "cell_type": "code",
   "execution_count": 91,
   "id": "316af96b-445d-4efa-9657-b369248e7e4d",
   "metadata": {
    "tags": []
   },
   "outputs": [
    {
     "data": {
      "text/plain": [
       "[array([1]), array([2]), array([34,  5,  5,  6])]"
      ]
     },
     "execution_count": 91,
     "metadata": {},
     "output_type": "execute_result"
    }
   ],
   "source": [
    "x1"
   ]
  },
  {
   "cell_type": "code",
   "execution_count": null,
   "id": "ac1c6db6-cde0-47cd-9bb2-aab5c5d078b9",
   "metadata": {},
   "outputs": [],
   "source": []
  }
 ],
 "metadata": {
  "kernelspec": {
   "display_name": "Python 3 (ipykernel)",
   "language": "python",
   "name": "python3"
  },
  "language_info": {
   "codemirror_mode": {
    "name": "ipython",
    "version": 3
   },
   "file_extension": ".py",
   "mimetype": "text/x-python",
   "name": "python",
   "nbconvert_exporter": "python",
   "pygments_lexer": "ipython3",
   "version": "3.11.3"
  }
 },
 "nbformat": 4,
 "nbformat_minor": 5
}
